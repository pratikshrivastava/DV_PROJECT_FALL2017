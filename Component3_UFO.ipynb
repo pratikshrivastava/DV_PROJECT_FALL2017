{
 "cells": [
  {
   "cell_type": "code",
   "execution_count": null,
   "metadata": {},
   "outputs": [],
   "source": [
    "\"\"\"Your visualization should be interactive; you may find it easiest to use bqplot to build this visualization. \n",
    "It should display the following pieces of information:\n",
    "\n",
    "A map of the United States, where the states are colored either by the total sightings in each state over the selected time period, or the total time in sightings.\n",
    "A plot displaying the total number of sightings in whichever state is highlighted, aggregated so that it is a function of the year.\n",
    "A plot displaying the total duration of sightings in whichever state is highlighted, aggregated so that it is a function of the year.\n",
    "Tooltips should appear when hovering over the state with useful information about the state (either from the UFO database or elsewhere.)\n",
    "Your interactive visualization must have the following modifiable parts:\n",
    "\n",
    "Which field is being displayed: total sightings or total time.\n",
    "Time period being visualized: there should be some widget or display mechanism that can be subselected; one possibility would be to show the total number of sightings over the entire database (aggregated by year) and allow the user to click and drag to highlight specific times regions. When it is subselected, this should change the display in the map component.\n",
    "\"\"\""
   ]
  },
  {
   "cell_type": "code",
   "execution_count": 10,
   "metadata": {},
   "outputs": [],
   "source": [
    "import numpy as np\n",
    "import bqplot\n",
    "import pandas as pd\n",
    "import us"
   ]
  },
  {
   "cell_type": "code",
   "execution_count": 11,
   "metadata": {},
   "outputs": [],
   "source": [
    "#!python\n",
    "names = [\"date\", \"city\", \"state\", \"country\", \"shape\", \"duration_seconds\",\n",
    "         \"duration_reported\", \"description\", \"report_date\", \"latitude\",\n",
    "         \"longitude\"]\n",
    "\n",
    "fn = \"data/ufo-scrubbed-geocoded-time-standardized.csv\"\n",
    "ufo = pd.read_csv(fn, names = names, parse_dates = [\"date\", \"report_date\"])"
   ]
  },
  {
   "cell_type": "code",
   "execution_count": 12,
   "metadata": {},
   "outputs": [],
   "source": [
    "abbr_to_fits = us.states.mapping('abbr', 'fips')"
   ]
  },
  {
   "cell_type": "code",
   "execution_count": 13,
   "metadata": {},
   "outputs": [],
   "source": [
    "ufo[\"fips\"] = ufo[\"state\"].apply(lambda a: int(abbr_to_fits.get(str(a).upper(), -1)))\n"
   ]
  },
  {
   "cell_type": "code",
   "execution_count": 14,
   "metadata": {},
   "outputs": [],
   "source": [
    "fips_count = np.log10(ufo.groupby(\"fips\")[\"duration_seconds\"].count())\n"
   ]
  },
  {
   "cell_type": "code",
   "execution_count": null,
   "metadata": {},
   "outputs": [],
   "source": [
    "map_styles = {'scales': {'projection': bqplot.AlbersUSA(),\n",
    "                         'color': bqplot.ColorScale(colors=[\"red\", \"blue\"])},\n",
    "              'color': fips_count.to_dict()}\n",
    "states_map = bqplot.Map(map_data=bqplot.topo_load('map_data/USStatesMap.json'), **map_styles)\n",
    "map_fig = bqplot.Figure(marks=[states_map], title='USA')\n",
    "map_fig"
   ]
  }
 ],
 "metadata": {
  "anaconda-cloud": {},
  "kernelspec": {
   "display_name": "Python [conda root]",
   "language": "python",
   "name": "conda-root-py"
  },
  "language_info": {
   "codemirror_mode": {
    "name": "ipython",
    "version": 3
   },
   "file_extension": ".py",
   "mimetype": "text/x-python",
   "name": "python",
   "nbconvert_exporter": "python",
   "pygments_lexer": "ipython3",
   "version": "3.5.2"
  }
 },
 "nbformat": 4,
 "nbformat_minor": 2
}
