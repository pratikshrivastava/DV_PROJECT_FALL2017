{
 "cells": [
  {
   "cell_type": "code",
   "execution_count": 1,
   "metadata": {},
   "outputs": [],
   "source": [
    "%matplotlib inline\n",
    "import pandas as pd\n",
    "#import matplotlib.pyplot as plt\n",
    "from bqplot import pyplot as plt \n",
    "\n",
    "from __future__ import print_function\n",
    "import numpy as np\n",
    "\n",
    "from bqplot import (\n",
    "    Axis, ColorAxis, LinearScale, DateScale, DateColorScale, OrdinalScale,\n",
    "    OrdinalColorScale, ColorScale, Scatter, Lines, Figure, Tooltip\n",
    ")\n",
    "\n",
    "from ipywidgets import interact, interactive, fixed, interact_manual\n",
    "import ipywidgets as widgets"
   ]
  },
  {
   "cell_type": "markdown",
   "metadata": {},
   "source": [
    "### Read the data.\n",
    "\n",
    "<li> Read the data of the readings of the detectors in the dataframe data </li>\n",
    "<li> Read the data of the location of the detectors in the dataframe locations </li>\n"
   ]
  },
  {
   "cell_type": "code",
   "execution_count": 2,
   "metadata": {},
   "outputs": [],
   "source": [
    "## Read the csv file into the dataframe using pandas\n",
    "data = pd.read_csv(\"data/data_tohoku_norm_transpose.csv\", header=None)\n",
    "\n",
    "locations = pd.read_csv(\"data/location.txt\",\n",
    "                        delimiter=\"\\t\", names =[\"longitude\", \"latitude\", \"a\", \"b\"])\n",
    "del locations[\"a\"], locations[\"b\"]"
   ]
  },
  {
   "cell_type": "markdown",
   "metadata": {},
   "source": [
    "### Checking for the null values "
   ]
  },
  {
   "cell_type": "code",
   "execution_count": 3,
   "metadata": {},
   "outputs": [
    {
     "data": {
      "text/plain": [
       "longitude    0\n",
       "latitude     0\n",
       "dtype: int64"
      ]
     },
     "execution_count": 3,
     "metadata": {},
     "output_type": "execute_result"
    }
   ],
   "source": [
    "locations.isnull().sum()"
   ]
  },
  {
   "cell_type": "markdown",
   "metadata": {},
   "source": [
    "### Create an index for selecting the readings from the data based on time. \n",
    "\n",
    "Created a series using the daterange. \n",
    "The time has the same size as the no of rows in the detectors data.  \n",
    "\n",
    "data.shape\n",
    "(14401, 438)\n",
    "\n"
   ]
  },
  {
   "cell_type": "code",
   "execution_count": 4,
   "metadata": {},
   "outputs": [],
   "source": [
    "time = pd.Series(range(0,data[0].size))"
   ]
  },
  {
   "cell_type": "markdown",
   "metadata": {},
   "source": [
    "#### Creating a series of range for storing them as index in the location data frame. "
   ]
  },
  {
   "cell_type": "code",
   "execution_count": 5,
   "metadata": {},
   "outputs": [],
   "source": [
    "## number of station \n",
    "station = pd.Series(range(0,438))\n",
    "station = station.astype(int)"
   ]
  },
  {
   "cell_type": "markdown",
   "metadata": {},
   "source": [
    "### Intechanging the columns of the locations. \n",
    "The latitude is the first colum and the longitude is the last. \n",
    "Also adding a new column \"station\" and setting it as the index. "
   ]
  },
  {
   "cell_type": "code",
   "execution_count": 6,
   "metadata": {},
   "outputs": [
    {
     "data": {
      "text/plain": [
       "latitude      26.463\n",
       "longitude   -123.930\n",
       "dtype: float64"
      ]
     },
     "execution_count": 6,
     "metadata": {},
     "output_type": "execute_result"
    }
   ],
   "source": [
    "cols = locations.columns.tolist()\n",
    "cols = cols[-1:] + cols[:-1]\n",
    "locations = locations[cols]\n",
    "\n",
    "locations['station'] =station\n",
    "locations.set_index('station',inplace=True)\n",
    "\n",
    "locations.min()"
   ]
  },
  {
   "cell_type": "markdown",
   "metadata": {},
   "source": [
    "from haversine import haversine\n",
    "\n",
    "## lat and long values of the tohuku quake\n",
    "tohuku_loc=[38.3,142.4]\n",
    "tohuku_loc\n",
    "x=[]\n",
    "\n",
    "\n",
    "for i in station:\n",
    "    #print(i)\n",
    "    x.append(haversine(locations.loc[i], tohuku_loc,miles=True))\n",
    "    #dist = haversine(locations.loc[i], tohuku_loc,miles=True)\n",
    "    \n",
    "locations['distance'] =x\n",
    "location_sort=locations.sort_values('distance')\n",
    "\n",
    "location_sort\n",
    "\n",
    "data.min().min()\n",
    "data.max().max()\n",
    "data_norm = (data - data.min() ) / (data.max() - data.min())"
   ]
  },
  {
   "cell_type": "markdown",
   "metadata": {},
   "source": [
    "### Creating index  in the data frame using the time."
   ]
  },
  {
   "cell_type": "code",
   "execution_count": 7,
   "metadata": {},
   "outputs": [],
   "source": [
    "data['time']=time\n",
    "data.set_index('time',inplace=True)"
   ]
  },
  {
   "cell_type": "code",
   "execution_count": 8,
   "metadata": {},
   "outputs": [
    {
     "data": {
      "text/plain": [
       "time\n",
       "0   -0.000255\n",
       "Name: 0, dtype: float64"
      ]
     },
     "execution_count": 8,
     "metadata": {},
     "output_type": "execute_result"
    }
   ],
   "source": [
    "data.loc[time == 0][0]"
   ]
  },
  {
   "cell_type": "markdown",
   "metadata": {},
   "source": [
    "### Normalizing the Data for displaying the detectors with the value of the reading based on the slider. "
   ]
  },
  {
   "cell_type": "code",
   "execution_count": 9,
   "metadata": {},
   "outputs": [
    {
     "data": {
      "text/plain": [
       "time\n",
       "0    0.453386\n",
       "Name: 0, dtype: float64"
      ]
     },
     "execution_count": 9,
     "metadata": {},
     "output_type": "execute_result"
    }
   ],
   "source": [
    "data_norm = (data - data.min()) / (data.max() - data.min())\n",
    "data_norm.loc[time==0][0]"
   ]
  },
  {
   "cell_type": "markdown",
   "metadata": {
    "collapsed": true
   },
   "source": [
    "### Creation of the slider using time"
   ]
  },
  {
   "cell_type": "markdown",
   "metadata": {},
   "source": [
    "sc_x = LinearScale()\n",
    "sc_y = LinearScale()\n",
    "col_sc = ColorScale(min = data[0].min(), max =data[0].max())\n",
    "\n",
    "import ipywidgets\n",
    "#time_slide = interactive(interval = (time.min(), time.max(), 1))\n",
    "def make_plot(interval = 0, station = 0 ):\n",
    "    plt.subplot(211)\n",
    "\n",
    "#map_mark = Map(map_data=topo_load('map_data/USStatesMap.json'), scales={'projection': AlbersUSA()})    \n",
    "#scatt = Scatter(x=locations['latitude'], y=locations['longitude'], scales={'x': sc_x, 'y': sc_y,color})\n",
    "plt.scatter(locations['latitude'], locations['longitude'], color=data_norm[time==10])\n",
    "plt.show()\n",
    "\n",
    "plt\n",
    "#ax_x = Axis(scale=sc_x)\n",
    "#ax_y = Axis(scale=sc_y)\n",
    "\n",
    "#ax_c = ColorAxis(scale=col_sc)\n",
    "#Figure(marks=[scatt], axes=[ax_x, ax_y,ax_c])\n",
    " \n",
    "\n"
   ]
  },
  {
   "cell_type": "markdown",
   "metadata": {},
   "source": [
    "import cartopy as ccrs\n",
    "import cartopy.io.shapereader as shpreader\n",
    "\n",
    "plt.figure(figsize=(1280,720))\n",
    "states=ccrs.io.shapereader.natural_earth(resolution='110m',category='cultural', name='admin_1_states_provinces_lakes_shp')\n",
    "reader = ccrs.io.shapereader.Reader(states)\n",
    "geometries = list(reader.geometries())\n",
    "fig = plt.figure()\n",
    "\n",
    "#ax= fig.add_subplot(111)\n",
    "#plt.plot(data[0][0:3600])\n",
    "#ax=fig.add_subplot(111, projection=ccrs.crs.LambertConformal())\n",
    "ax= plt.axes(projection=ccrs.crs.Mercator())\n",
    "ax.add_geometries(geometries,crs = ccrs.crs.PlateCarree(), facecolor=(0,1,0), linewidth=0.5, edgecolor='black')\n",
    "ax.set_extent([-127,-74, 24, 47], ccrs.crs.Geodetic())\n",
    "\n",
    "#ax=fig.add_subplot(211, projection =ccrs.crs.GOOGLE_MERCATOR)\n",
    "plt.scatter(x=locations[\"longitude\"],y=locations[\"latitude\"], transform=ccrs.crs.Geodetic())\n",
    "\n",
    "#fig.add_subplot(211)\n",
    "#plt.scatter(x=locations[\"latitude\"],y=locations[\"longitude\"])\n",
    "\n",
    "plt.show()\n",
    "\n"
   ]
  },
  {
   "cell_type": "code",
   "execution_count": 10,
   "metadata": {},
   "outputs": [],
   "source": [
    "from IPython.display import Audio"
   ]
  },
  {
   "cell_type": "code",
   "execution_count": 11,
   "metadata": {},
   "outputs": [
    {
     "data": {
      "text/html": [
       "\n",
       "                <audio controls=\"controls\" >\n",
       "                    <source src=\"data:audio/wav;base64,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\" type=\"audio/wav\" />\n",
       "                    Your browser does not support the audio element.\n",
       "                </audio>\n",
       "              "
      ],
      "text/plain": [
       "<IPython.lib.display.Audio object>"
      ]
     },
     "execution_count": 11,
     "metadata": {},
     "output_type": "execute_result"
    }
   ],
   "source": [
    "normed = (data[0] - data[0].min())/(data[0].max() - data[0].min()) * 4 - 1\n",
    "Audio(normed, rate=44100/8)"
   ]
  },
  {
   "cell_type": "code",
   "execution_count": 12,
   "metadata": {},
   "outputs": [],
   "source": [
    "def wave_form_detect(station, time):\n",
    "    \"\"\"\n",
    "    Get the data for the waveform from the data from for the selected station and time duration.\n",
    "    \"\"\"\n",
    "    x = range(0, time)\n",
    "    y = data[station][0:time]\n",
    "\n",
    "    return x, y\n",
    "\n",
    "def update_line(self, target):\n",
    "    #print(sel_station)\n",
    "    new_x, new_y = wave_form_detect(scat.selected, 14400)\n",
    "    line.x = new_x\n",
    "    line.y = new_y\n",
    "    \n",
    "def get_time(interval):\n",
    "    \n",
    "    return interval\n",
    "\n",
    "def upd_col(time ): \n",
    "    temp = np.array(data_norm[time==time].values.flatten())\n",
    "    return np.log(temp)"
   ]
  },
  {
   "cell_type": "code",
   "execution_count": 13,
   "metadata": {},
   "outputs": [],
   "source": [
    "time_slide = interactive(get_time,interval=(time.min(), time.max(), 1))"
   ]
  },
  {
   "cell_type": "code",
   "execution_count": 14,
   "metadata": {},
   "outputs": [],
   "source": [
    "#np.array(price_data[symbols[0]].values.flatten())\n"
   ]
  },
  {
   "cell_type": "code",
   "execution_count": 15,
   "metadata": {},
   "outputs": [
    {
     "name": "stderr",
     "output_type": "stream",
     "text": [
      "C:\\Users\\pratik\\Anaconda3\\lib\\site-packages\\ipykernel\\__main__.py:22: RuntimeWarning: divide by zero encountered in log\n"
     ]
    },
    {
     "data": {
      "text/plain": [
       "array([-0.79938593, -0.79940708, -0.79942724, ..., -0.79276941,\n",
       "       -0.79358106, -0.79437158])"
      ]
     },
     "execution_count": 15,
     "metadata": {},
     "output_type": "execute_result"
    }
   ],
   "source": [
    "\n",
    "color = upd_col(time_slide.result)\n",
    "color "
   ]
  },
  {
   "cell_type": "code",
   "execution_count": null,
   "metadata": {},
   "outputs": [],
   "source": [
    "#time_slide.observe(upd_color,names=['time'])"
   ]
  },
  {
   "cell_type": "code",
   "execution_count": null,
   "metadata": {},
   "outputs": [],
   "source": [
    "sc_geo = AlbersUSA()\n",
    "states_map = Map(map_data=topo_load('map_data/USStatesMap.json'), scales={'projection': sc_geo})\n",
    "Figure(marks=[states_map], title='US States Map Example')"
   ]
  },
  {
   "cell_type": "code",
   "execution_count": null,
   "metadata": {},
   "outputs": [],
   "source": [
    "# Start by defining a scale for each axis\n",
    "sc_x = LinearScale()\n",
    "\n",
    "# The amplitudes are limited to ±1 for this example...\n",
    "sc_y = LinearScale()\n",
    "\n",
    "col_sc=ColorScale()\n",
    "\n",
    "#color = np.log(color)\n",
    "\n",
    "## Creatinig the scatter plot with the lat and long values of the detectores: \n",
    "## Included the \"select\" interaction with the click event. \n",
    "\n",
    "scat = Scatter(x=locations['latitude'] , y=locations['longitude'], scales={'x': sc_x, 'y': sc_y,'color': col_sc}, \n",
    "               #colors=['green'], scales={'x': sc_x, 'y': sc_y, 'color': sc_c1}\n",
    "               #scale_type={'linear'},\n",
    "               color=color ,\n",
    "               stroke='black',\n",
    "               # This is what makes this plot interactive\n",
    "               interactions={'click': 'select'},\n",
    "               selected_style={'opacity': 1.5, 'fill': 'blue', 'stroke': 'white'},\n",
    "                       unselected_style={'opacity': 1.0})\n",
    "\n",
    "# Only allow points to be moved vertically...\n",
    "#scat.restrict_y = True\n",
    "\n",
    "# Define the axes themselves\n",
    "ax_x = Axis(scale=sc_x)\n",
    "ax_y = Axis(scale=sc_y, tick_format='0.2f', orientation='vertical')\n",
    "\n",
    "\n",
    "# The graph itself...\n",
    "detector_loc = Figure(marks=[scat], axes=[ax_x, ax_y], \n",
    "                           title='Detector Location')\n",
    "\n",
    "# This width is chosen just to make the plot fit nicely with \n",
    "# another. Change it if you want.\n",
    "detector_loc.layout.width = '400px'\n",
    "\n",
    "# Let's see what this looks like...\n",
    "box = widgets.HBox(children=[detector_loc, time_slide])\n",
    "#box\n",
    "\n",
    "#type(color)"
   ]
  },
  {
   "cell_type": "code",
   "execution_count": null,
   "metadata": {},
   "outputs": [],
   "source": [
    "initial_station = 0\n",
    "initial_timeinterval=14400"
   ]
  },
  {
   "cell_type": "code",
   "execution_count": null,
   "metadata": {},
   "outputs": [],
   "source": [
    "lin_x = LinearScale(min=0, max=14400)\n",
    "lin_y = LinearScale()\n",
    "\n",
    "# Note that here, unlike above, we do not set the initial data.\n",
    "line = Lines(scales={'x': lin_x, 'y': lin_y}, colors=['red'],\n",
    "               enable_move=False)\n",
    "\n",
    "ax_x = Axis(scale=lin_x)\n",
    "ax_y = Axis(scale=lin_y, tick_format='0.2f', orientation='vertical')\n",
    "\n",
    "waveform = Figure(marks=[line], axes=[ax_x, ax_y], \n",
    "                title='Waveform Earthquake at Station:',\n",
    "                # Honestly, I just like the way the animation looks.\n",
    "                # Value is in milliseconds.\n",
    "                animation_duration=500)\n",
    "\n",
    "# Size as you wish...\n",
    "waveform.layout.width = '400px'\n",
    "\n",
    "# Calculate the waveform for the station for default values....\n",
    "line.x, line.y = wave_form_detect(initial_station, initial_timeinterval)\n",
    "\n",
    "\n",
    "#waveform\n",
    "\n"
   ]
  },
  {
   "cell_type": "code",
   "execution_count": null,
   "metadata": {},
   "outputs": [],
   "source": [
    "# update line on change of x or y of scatter\n",
    "#detector_loc.marks[0].observe(update_line,names=['y'])\n",
    "#detector_loc.observe(update_line,names=['selected'])\n",
    "#scat.on_element_click(update_line)\n",
    "\n",
    "scat.on_element_click(update_line)"
   ]
  },
  {
   "cell_type": "code",
   "execution_count": null,
   "metadata": {},
   "outputs": [],
   "source": [
    "from IPython.display import display\n",
    "display(time_slide)\n",
    "box = widgets.HBox(children=[detector_loc, waveform])\n",
    "box"
   ]
  },
  {
   "cell_type": "code",
   "execution_count": null,
   "metadata": {},
   "outputs": [],
   "source": []
  },
  {
   "cell_type": "code",
   "execution_count": null,
   "metadata": {},
   "outputs": [],
   "source": []
  }
 ],
 "metadata": {
  "kernelspec": {
   "display_name": "Python 3",
   "language": "python",
   "name": "python3"
  },
  "language_info": {
   "codemirror_mode": {
    "name": "ipython",
    "version": 3
   },
   "file_extension": ".py",
   "mimetype": "text/x-python",
   "name": "python",
   "nbconvert_exporter": "python",
   "pygments_lexer": "ipython3",
   "version": "3.6.0"
  },
  "widgets": {
   "state": {
    "ab61794794de40548f078bf605a8d8bd": {
     "views": [
      {
       "cell_index": 16
      }
     ]
    }
   },
   "version": "1.2.0"
  }
 },
 "nbformat": 4,
 "nbformat_minor": 2
}
